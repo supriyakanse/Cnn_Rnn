{
 "cells": [
  {
   "cell_type": "code",
   "execution_count": 1,
   "id": "9ae220ad",
   "metadata": {},
   "outputs": [
    {
     "name": "stderr",
     "output_type": "stream",
     "text": [
      "C:\\Users\\user\\pythonDsbda\\lib\\site-packages\\scipy\\__init__.py:155: UserWarning: A NumPy version >=1.18.5 and <1.25.0 is required for this version of SciPy (detected version 1.26.1\n",
      "  warnings.warn(f\"A NumPy version >={np_minversion} and <{np_maxversion}\"\n"
     ]
    }
   ],
   "source": [
    "import tensorflow as tf\n",
    "from tensorflow.keras.models import Sequential"
   ]
  },
  {
   "cell_type": "code",
   "execution_count": 2,
   "id": "b38eff0f",
   "metadata": {},
   "outputs": [],
   "source": [
    "from tensorflow.keras.layers import Dense,Dropout"
   ]
  },
  {
   "cell_type": "code",
   "execution_count": 3,
   "id": "2d5d0078",
   "metadata": {},
   "outputs": [],
   "source": [
    "from tensorflow.keras.datasets import boston_housing"
   ]
  },
  {
   "cell_type": "code",
   "execution_count": 4,
   "id": "42e53f59",
   "metadata": {},
   "outputs": [],
   "source": [
    "(train_data,train_target),(test_data,test_target)=boston_housing.load_data()"
   ]
  },
  {
   "cell_type": "code",
   "execution_count": 5,
   "id": "79276c35",
   "metadata": {},
   "outputs": [],
   "source": [
    "from sklearn.preprocessing import StandardScaler"
   ]
  },
  {
   "cell_type": "code",
   "execution_count": 6,
   "id": "4e89dc7c",
   "metadata": {},
   "outputs": [],
   "source": [
    "scaler=StandardScaler()"
   ]
  },
  {
   "cell_type": "code",
   "execution_count": 7,
   "id": "012fee07",
   "metadata": {},
   "outputs": [],
   "source": [
    "train_data_scaled=scaler.fit_transform(train_data)\n",
    "test_data_scaled=scaler.transform(test_data)"
   ]
  },
  {
   "cell_type": "code",
   "execution_count": 8,
   "id": "0e11c566",
   "metadata": {},
   "outputs": [],
   "source": [
    "model = Sequential([\n",
    "    Dense(64, activation='relu', input_shape=(train_data_scaled.shape[1],)),\n",
    "    Dense(64, activation='relu'),\n",
    "    Dense(1)\n",
    "])"
   ]
  },
  {
   "cell_type": "code",
   "execution_count": 9,
   "id": "09bfe7ce",
   "metadata": {},
   "outputs": [],
   "source": [
    "model.compile(optimizer='adam',loss='mean_squared_error')"
   ]
  },
  {
   "cell_type": "code",
   "execution_count": 10,
   "id": "1e0700bc",
   "metadata": {},
   "outputs": [
    {
     "name": "stdout",
     "output_type": "stream",
     "text": [
      "Epoch 1/100\n",
      "5/5 [==============================] - 3s 21ms/step - loss: 576.6479\n",
      "Epoch 2/100\n",
      "5/5 [==============================] - 0s 28ms/step - loss: 556.5554\n",
      "Epoch 3/100\n",
      "5/5 [==============================] - 0s 22ms/step - loss: 537.1796\n",
      "Epoch 4/100\n",
      "5/5 [==============================] - 0s 12ms/step - loss: 516.7873\n",
      "Epoch 5/100\n",
      "5/5 [==============================] - 0s 12ms/step - loss: 495.1963\n",
      "Epoch 6/100\n",
      "5/5 [==============================] - 0s 8ms/step - loss: 471.4252\n",
      "Epoch 7/100\n",
      "5/5 [==============================] - 0s 8ms/step - loss: 445.8196\n",
      "Epoch 8/100\n",
      "5/5 [==============================] - 0s 10ms/step - loss: 416.7090\n",
      "Epoch 9/100\n",
      "5/5 [==============================] - 0s 4ms/step - loss: 384.4305\n",
      "Epoch 10/100\n",
      "5/5 [==============================] - 0s 4ms/step - loss: 349.6997\n",
      "Epoch 11/100\n",
      "5/5 [==============================] - 0s 4ms/step - loss: 312.3473\n",
      "Epoch 12/100\n",
      "5/5 [==============================] - 0s 4ms/step - loss: 273.2128\n",
      "Epoch 13/100\n",
      "5/5 [==============================] - 0s 4ms/step - loss: 231.6289\n",
      "Epoch 14/100\n",
      "5/5 [==============================] - 0s 4ms/step - loss: 191.4246\n",
      "Epoch 15/100\n",
      "5/5 [==============================] - 0s 4ms/step - loss: 154.0841\n",
      "Epoch 16/100\n",
      "5/5 [==============================] - 0s 4ms/step - loss: 121.3371\n",
      "Epoch 17/100\n",
      "5/5 [==============================] - 0s 4ms/step - loss: 93.5424\n",
      "Epoch 18/100\n",
      "5/5 [==============================] - 0s 4ms/step - loss: 74.2695\n",
      "Epoch 19/100\n",
      "5/5 [==============================] - 0s 4ms/step - loss: 62.1281\n",
      "Epoch 20/100\n",
      "5/5 [==============================] - 0s 4ms/step - loss: 55.9091\n",
      "Epoch 21/100\n",
      "5/5 [==============================] - 0s 4ms/step - loss: 51.4768\n",
      "Epoch 22/100\n",
      "5/5 [==============================] - 0s 4ms/step - loss: 47.3363\n",
      "Epoch 23/100\n",
      "5/5 [==============================] - 0s 4ms/step - loss: 43.6883\n",
      "Epoch 24/100\n",
      "5/5 [==============================] - 0s 4ms/step - loss: 39.6767\n",
      "Epoch 25/100\n",
      "5/5 [==============================] - 0s 4ms/step - loss: 36.5646\n",
      "Epoch 26/100\n",
      "5/5 [==============================] - 0s 4ms/step - loss: 33.7878\n",
      "Epoch 27/100\n",
      "5/5 [==============================] - 0s 4ms/step - loss: 32.0533\n",
      "Epoch 28/100\n",
      "5/5 [==============================] - 0s 7ms/step - loss: 30.5125\n",
      "Epoch 29/100\n",
      "5/5 [==============================] - 0s 6ms/step - loss: 29.2402\n",
      "Epoch 30/100\n",
      "5/5 [==============================] - 0s 6ms/step - loss: 28.2282\n",
      "Epoch 31/100\n",
      "5/5 [==============================] - 0s 6ms/step - loss: 27.2731\n",
      "Epoch 32/100\n",
      "5/5 [==============================] - 0s 7ms/step - loss: 26.6260\n",
      "Epoch 33/100\n",
      "5/5 [==============================] - 0s 5ms/step - loss: 26.0505\n",
      "Epoch 34/100\n",
      "5/5 [==============================] - 0s 6ms/step - loss: 25.4254\n",
      "Epoch 35/100\n",
      "5/5 [==============================] - 0s 7ms/step - loss: 24.8972\n",
      "Epoch 36/100\n",
      "5/5 [==============================] - 0s 9ms/step - loss: 24.3980\n",
      "Epoch 37/100\n",
      "5/5 [==============================] - 0s 9ms/step - loss: 23.9902\n",
      "Epoch 38/100\n",
      "5/5 [==============================] - 0s 8ms/step - loss: 23.6125\n",
      "Epoch 39/100\n",
      "5/5 [==============================] - 0s 7ms/step - loss: 23.2297\n",
      "Epoch 40/100\n",
      "5/5 [==============================] - 0s 4ms/step - loss: 22.7729\n",
      "Epoch 41/100\n",
      "5/5 [==============================] - 0s 8ms/step - loss: 22.2933\n",
      "Epoch 42/100\n",
      "5/5 [==============================] - 0s 10ms/step - loss: 21.8397\n",
      "Epoch 43/100\n",
      "5/5 [==============================] - 0s 5ms/step - loss: 21.4608\n",
      "Epoch 44/100\n",
      "5/5 [==============================] - 0s 4ms/step - loss: 21.1193\n",
      "Epoch 45/100\n",
      "5/5 [==============================] - 0s 8ms/step - loss: 20.7646\n",
      "Epoch 46/100\n",
      "5/5 [==============================] - 0s 8ms/step - loss: 20.4383\n",
      "Epoch 47/100\n",
      "5/5 [==============================] - 0s 5ms/step - loss: 20.1678\n",
      "Epoch 48/100\n",
      "5/5 [==============================] - 0s 8ms/step - loss: 19.7908\n",
      "Epoch 49/100\n",
      "5/5 [==============================] - 0s 7ms/step - loss: 19.4914\n",
      "Epoch 50/100\n",
      "5/5 [==============================] - 0s 6ms/step - loss: 19.2084\n",
      "Epoch 51/100\n",
      "5/5 [==============================] - 0s 6ms/step - loss: 18.9480\n",
      "Epoch 52/100\n",
      "5/5 [==============================] - 0s 6ms/step - loss: 18.6419\n",
      "Epoch 53/100\n",
      "5/5 [==============================] - 0s 7ms/step - loss: 18.4230\n",
      "Epoch 54/100\n",
      "5/5 [==============================] - 0s 6ms/step - loss: 18.1819\n",
      "Epoch 55/100\n",
      "5/5 [==============================] - 0s 7ms/step - loss: 17.9324\n",
      "Epoch 56/100\n",
      "5/5 [==============================] - 0s 4ms/step - loss: 17.6621\n",
      "Epoch 57/100\n",
      "5/5 [==============================] - 0s 4ms/step - loss: 17.6316\n",
      "Epoch 58/100\n",
      "5/5 [==============================] - 0s 2ms/step - loss: 17.1558\n",
      "Epoch 59/100\n",
      "5/5 [==============================] - 0s 4ms/step - loss: 16.8987\n",
      "Epoch 60/100\n",
      "5/5 [==============================] - 0s 4ms/step - loss: 16.4954\n",
      "Epoch 61/100\n",
      "5/5 [==============================] - 0s 4ms/step - loss: 16.1666\n",
      "Epoch 62/100\n",
      "5/5 [==============================] - 0s 8ms/step - loss: 15.9340\n",
      "Epoch 63/100\n",
      "5/5 [==============================] - 0s 4ms/step - loss: 15.7948\n",
      "Epoch 64/100\n",
      "5/5 [==============================] - 0s 4ms/step - loss: 15.5606\n",
      "Epoch 65/100\n",
      "5/5 [==============================] - 0s 8ms/step - loss: 15.4544\n",
      "Epoch 66/100\n",
      "5/5 [==============================] - 0s 8ms/step - loss: 15.2684\n",
      "Epoch 67/100\n",
      "5/5 [==============================] - 0s 10ms/step - loss: 15.1054\n",
      "Epoch 68/100\n",
      "5/5 [==============================] - 0s 8ms/step - loss: 14.9700\n",
      "Epoch 69/100\n",
      "5/5 [==============================] - 0s 4ms/step - loss: 14.8202\n",
      "Epoch 70/100\n",
      "5/5 [==============================] - 0s 8ms/step - loss: 14.6803\n",
      "Epoch 71/100\n",
      "5/5 [==============================] - 0s 8ms/step - loss: 14.5446\n",
      "Epoch 72/100\n",
      "5/5 [==============================] - 0s 9ms/step - loss: 14.4424\n",
      "Epoch 73/100\n",
      "5/5 [==============================] - 0s 8ms/step - loss: 14.3208\n",
      "Epoch 74/100\n",
      "5/5 [==============================] - 0s 5ms/step - loss: 14.1860\n",
      "Epoch 75/100\n",
      "5/5 [==============================] - 0s 4ms/step - loss: 14.0590\n",
      "Epoch 76/100\n",
      "5/5 [==============================] - 0s 8ms/step - loss: 13.9974\n",
      "Epoch 77/100\n",
      "5/5 [==============================] - 0s 13ms/step - loss: 13.8552\n",
      "Epoch 78/100\n",
      "5/5 [==============================] - 0s 7ms/step - loss: 13.7229\n",
      "Epoch 79/100\n",
      "5/5 [==============================] - 0s 10ms/step - loss: 13.5808\n",
      "Epoch 80/100\n",
      "5/5 [==============================] - 0s 6ms/step - loss: 13.5010\n",
      "Epoch 81/100\n",
      "5/5 [==============================] - 0s 6ms/step - loss: 13.4502\n",
      "Epoch 82/100\n",
      "5/5 [==============================] - 0s 6ms/step - loss: 13.2781\n",
      "Epoch 83/100\n",
      "5/5 [==============================] - 0s 4ms/step - loss: 13.0317\n",
      "Epoch 84/100\n",
      "5/5 [==============================] - 0s 4ms/step - loss: 12.9144\n",
      "Epoch 85/100\n",
      "5/5 [==============================] - 0s 4ms/step - loss: 12.8098\n",
      "Epoch 86/100\n",
      "5/5 [==============================] - 0s 8ms/step - loss: 12.7180\n",
      "Epoch 87/100\n",
      "5/5 [==============================] - 0s 4ms/step - loss: 12.6145\n",
      "Epoch 88/100\n",
      "5/5 [==============================] - 0s 4ms/step - loss: 12.5431\n",
      "Epoch 89/100\n",
      "5/5 [==============================] - 0s 4ms/step - loss: 12.4555\n",
      "Epoch 90/100\n",
      "5/5 [==============================] - 0s 4ms/step - loss: 12.3296\n",
      "Epoch 91/100\n",
      "5/5 [==============================] - 0s 8ms/step - loss: 12.2118\n",
      "Epoch 92/100\n",
      "5/5 [==============================] - 0s 6ms/step - loss: 12.2193\n",
      "Epoch 93/100\n",
      "5/5 [==============================] - 0s 5ms/step - loss: 12.2185\n",
      "Epoch 94/100\n",
      "5/5 [==============================] - 0s 4ms/step - loss: 12.2227\n",
      "Epoch 95/100\n",
      "5/5 [==============================] - 0s 4ms/step - loss: 12.0736\n",
      "Epoch 96/100\n",
      "5/5 [==============================] - 0s 6ms/step - loss: 11.9257\n",
      "Epoch 97/100\n",
      "5/5 [==============================] - 0s 4ms/step - loss: 11.8483\n",
      "Epoch 98/100\n",
      "5/5 [==============================] - 0s 5ms/step - loss: 11.8356\n",
      "Epoch 99/100\n",
      "5/5 [==============================] - 0s 6ms/step - loss: 11.7478\n",
      "Epoch 100/100\n",
      "5/5 [==============================] - 0s 4ms/step - loss: 11.5868\n"
     ]
    },
    {
     "data": {
      "text/plain": [
       "<keras.src.callbacks.History at 0x2381e67abe0>"
      ]
     },
     "execution_count": 10,
     "metadata": {},
     "output_type": "execute_result"
    }
   ],
   "source": [
    "model.fit(train_data_scaled,train_target,epochs=100,batch_size=100)"
   ]
  },
  {
   "cell_type": "code",
   "execution_count": 11,
   "id": "d750d74f",
   "metadata": {},
   "outputs": [
    {
     "name": "stdout",
     "output_type": "stream",
     "text": [
      "4/4 [==============================] - 0s 5ms/step - loss: 25.0563\n"
     ]
    }
   ],
   "source": [
    "result=model.evaluate(test_data_scaled,test_target)"
   ]
  },
  {
   "cell_type": "code",
   "execution_count": 12,
   "id": "5618ec42",
   "metadata": {},
   "outputs": [
    {
     "data": {
      "text/plain": [
       "25.05632972717285"
      ]
     },
     "execution_count": 12,
     "metadata": {},
     "output_type": "execute_result"
    }
   ],
   "source": [
    "result"
   ]
  },
  {
   "cell_type": "code",
   "execution_count": null,
   "id": "93e7c4ff",
   "metadata": {},
   "outputs": [],
   "source": []
  },
  {
   "cell_type": "code",
   "execution_count": null,
   "id": "b94e7731",
   "metadata": {},
   "outputs": [],
   "source": []
  },
  {
   "cell_type": "code",
   "execution_count": null,
   "id": "5856c624",
   "metadata": {},
   "outputs": [],
   "source": []
  }
 ],
 "metadata": {
  "kernelspec": {
   "display_name": "Python 3 (ipykernel)",
   "language": "python",
   "name": "python3"
  },
  "language_info": {
   "codemirror_mode": {
    "name": "ipython",
    "version": 3
   },
   "file_extension": ".py",
   "mimetype": "text/x-python",
   "name": "python",
   "nbconvert_exporter": "python",
   "pygments_lexer": "ipython3",
   "version": "3.9.13"
  }
 },
 "nbformat": 4,
 "nbformat_minor": 5
}
